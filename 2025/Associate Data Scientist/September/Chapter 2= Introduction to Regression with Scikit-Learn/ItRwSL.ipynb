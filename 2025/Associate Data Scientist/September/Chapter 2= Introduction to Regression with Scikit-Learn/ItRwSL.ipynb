{
 "cells": [
  {
   "cell_type": "markdown",
   "id": "618a9db5",
   "metadata": {},
   "source": [
    "## 📖 Content Summary"
   ]
  },
  {
   "cell_type": "markdown",
   "id": "037eb272",
   "metadata": {},
   "source": [
    "This chapter provides a structured introduction to supervised learning through regression using scikit-learn. It covers both the theoretical foundation and practical implementation."
   ]
  },
  {
   "cell_type": "markdown",
   "id": "250a1edb",
   "metadata": {},
   "source": [
    "## Key Topics:"
   ]
  },
  {
   "cell_type": "markdown",
   "id": "3944e857",
   "metadata": {},
   "source": [
    "### Predicting Continuous Variables"
   ]
  },
  {
   "cell_type": "markdown",
   "id": "c357cd36",
   "metadata": {},
   "source": [
    "- Example: predicting blood glucose levels using patient features.\n",
    "- Preprocessing data into feature (`X`) and target (`y`) arrays."
   ]
  },
  {
   "cell_type": "markdown",
   "id": "ca03c2b5",
   "metadata": {},
   "source": [
    "### Simple Linear Regression"
   ]
  },
  {
   "cell_type": "markdown",
   "id": "cb80c33f",
   "metadata": {},
   "source": [
    "- One feature (e.g., BMI) vs. one target (Glucose).\n",
    "- Visualizing data with scatter plots.\n",
    "- Fitting regression line using `LinearRegression`."
   ]
  },
  {
   "cell_type": "markdown",
   "id": "64e02b65",
   "metadata": {},
   "source": [
    "### Regression Mechanics"
   ]
  },
  {
   "cell_type": "markdown",
   "id": "57ee0e35",
   "metadata": {},
   "source": [
    "- Formula: `y = ax + b`.\n",
    "- Parameters: slope (a) and intercept (b).\n",
    "- Error/Loss function: Ordinary Least Squares (OLS)."
   ]
  },
  {
   "cell_type": "markdown",
   "id": "7ad7950a",
   "metadata": {},
   "source": [
    "### Multiple Linear Regression"
   ]
  },
  {
   "cell_type": "markdown",
   "id": "5adfc369",
   "metadata": {},
   "source": [
    "- Using multiple features for prediction.\n",
    "- Model evaluation using:\n",
    "    - R² (Coefficient of Determination)\n",
    "    - MSE (Mean Squared Error)\n",
    "    - RMSE (Root Mean Squared Error)"
   ]
  },
  {
   "cell_type": "markdown",
   "id": "0f4fd1b9",
   "metadata": {},
   "source": [
    "### Cross-Validation"
   ]
  },
  {
   "cell_type": "markdown",
   "id": "935da112",
   "metadata": {},
   "source": [
    "- Avoids overfitting and tests generalization.\n",
    "- Techniques: k-fold CV.\n",
    "- Implementation with `cross_val_score` in scikit-learn."
   ]
  },
  {
   "cell_type": "markdown",
   "id": "8780d834",
   "metadata": {},
   "source": [
    "### Regularization"
   ]
  },
  {
   "cell_type": "markdown",
   "id": "690d0d66",
   "metadata": {},
   "source": [
    "- Prevents overfitting by penalizing large coefficients.\n",
    "- Ridge Regression: Penalizes squared coefficients.\n",
    "- Lasso Regression: Shrinks coefficients, enabling feature selection."
   ]
  },
  {
   "cell_type": "markdown",
   "id": "790588fe",
   "metadata": {},
   "source": [
    "## Practical Demonstrations:"
   ]
  },
  {
   "cell_type": "markdown",
   "id": "c12a2200",
   "metadata": {},
   "source": [
    "- Using `train_test_split` for model evaluation.\n",
    "- Implementing Ridge and Lasso regression with varying α values.\n",
    "- Feature importance visualization using Lasso coefficients."
   ]
  }
 ],
 "metadata": {
  "language_info": {
   "name": "python"
  }
 },
 "nbformat": 4,
 "nbformat_minor": 5
}
